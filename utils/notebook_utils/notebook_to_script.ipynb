{
 "cells": [
  {
   "cell_type": "markdown",
   "id": "muslim-martial",
   "metadata": {},
   "source": [
    "**Functionality for automatic conversion between notebooks (.ipynb) and scripts (.py)**\n",
    "\n",
    "Motivation:   \n",
    "Code is being developed in python notebooks (.ipynb), but this format does not support full import flexibility.  \n",
    "One way to import functionality from a notebook into another notebook is using the so-called 'IPython magic', by using the '%run' command.  \n",
    "\n",
    "But this has the disadvantage that one cannot resolve potential ambiguity as is usually done using 'import ... (as ...)'.  \n",
    "The function save_notebook_as_script allows to easily save each notebook as an python (.py) file that can be imported in other notebooks or python files, avoiding the need for shady IPython magic commands.\n",
    "\n",
    "Use: \n",
    "- Import this script in a notebook using 'from notebook_to_script import save_notebook_as_script' or something equivalent.\n",
    "- At the end of your notebook, add the following statement: 'save_notebook_as_script( \"your notebook name\" )'.\n",
    "- When running this cell, a file will be created with the same name as your notebook, but with extension .py instead of .ipynb.   \n",
    "\n",
    "Notes:\n",
    "- The lines containing the import of notebook_to_script and the call to save_notebook_as_script  will not be written to the .py file!  \n",
    "- Markdown cells are written to the .py file as comments! Furthermore, comments in code cells are retained just as they are in the .ipynb file.  \n",
    "- Keep in mind that you need to explicitly save the notebook before running the 'save_notebook_as_script' function. Else, recent changes in modified cells will not be written to the resulting .py file!  "
   ]
  },
  {
   "cell_type": "code",
   "execution_count": null,
   "id": "controlling-deputy",
   "metadata": {},
   "outputs": [],
   "source": [
    "import os\n",
    "import re"
   ]
  },
  {
   "cell_type": "code",
   "execution_count": null,
   "id": "configured-drink",
   "metadata": {},
   "outputs": [],
   "source": [
    "def save_notebook_as_script( notebook_name ):\n",
    "    ### save a .ipynb notebook as a .py script\n",
    "    # input arguments:\n",
    "    # - notebook_name: name of the notebook to save, usually the current one.\n",
    "    # notes:\n",
    "    # - if notebook_name is provided without extension, '.ipynb' will be appended by default\n",
    "    # - see the readme header for more explanation on how to use this function!\n",
    "    notebook_name_split = os.path.splitext(notebook_name)\n",
    "    if len(notebook_name_split[1])==0:\n",
    "        notebook_name = notebook_name_split[0]+'.ipynb'\n",
    "        \n",
    "    # call jupyter command line functionality\n",
    "    os.system('jupyter nbconvert --to script --PythonExporter.exclude_markdown=False {}'.format(notebook_name) )\n",
    "    script_name = os.path.splitext(notebook_name)[0]+'.py'\n",
    "    \n",
    "    # re-read the created script and remove some unwanted lines\n",
    "    with open(script_name, 'r') as f:\n",
    "        lines = f.readlines()\n",
    "    with open(script_name, 'w') as f:\n",
    "        for line in lines:\n",
    "            if line.strip(' ')[0]=='#': \n",
    "                # case of comments: keep all comments regardless of further content,\n",
    "                # except for the cell numbers\n",
    "                if re.match('# In\\[.+\\]',line): continue\n",
    "                f.write(line)\n",
    "                continue\n",
    "            # case of code: avoid writing some meta-lines to the python script\n",
    "            if 'import' in line and 'notebook_to_script.ipynb' in line: continue\n",
    "            if 'save_notebook_as_script' in line and not 'def' in line: continue\n",
    "            f.write(line)"
   ]
  },
  {
   "cell_type": "code",
   "execution_count": null,
   "id": "selected-toyota",
   "metadata": {},
   "outputs": [],
   "source": [
    "save_notebook_as_script( 'notebook_to_script.ipynb' )"
   ]
  }
 ],
 "metadata": {
  "kernelspec": {
   "display_name": "Python 3",
   "language": "python",
   "name": "python3"
  },
  "language_info": {
   "codemirror_mode": {
    "name": "ipython",
    "version": 3
   },
   "file_extension": ".py",
   "mimetype": "text/x-python",
   "name": "python",
   "nbconvert_exporter": "python",
   "pygments_lexer": "ipython3",
   "version": "3.8.6"
  }
 },
 "nbformat": 4,
 "nbformat_minor": 5
}
